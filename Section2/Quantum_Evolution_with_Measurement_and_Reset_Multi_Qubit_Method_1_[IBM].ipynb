{
 "cells": [
  {
   "cell_type": "markdown",
   "metadata": {
    "editable": true,
    "id": "MVJIynnEZUJ7",
    "slideshow": {
     "slide_type": ""
    },
    "tags": []
   },
   "source": [
    "# Quantum Evolution with Measurement and  Reset : Multi Qubit Method 1 [ IBM ]\n",
    "\n",
    "Please set the number of qubits by setting n_qubit value >= 3\n",
    "\n",
    "NOTE: Here we have considered wire 0 as signal or feedback qubit, over which we get yi value.\n",
    "\n",
    "For running on IBM, please add the token.\n",
    "\n",
    "\n",
    "NOTE: There is issue with Pennylane IBM remote call, where it sends session based request not batch. To resolve that temporarily we made a change in the source code, as we were unable to find an alternative. Using Batch context was also not helping. This restriction is only for open plan. For other plans, session is allowed so should not be an issue. In case facing issue, please change \"dedicated\" to \"batch\" in line 171 in /usr/local/lib/python3.11/dist-packages/qiskit_ibm_runtime/session.py\n",
    "\n",
    "[<img src=\"https://qbraid-static.s3.amazonaws.com/logos/Launch_on_qBraid_white.png\" width=\"150\">](https://account.qbraid.com?gitHubUrl=https://github.com/janhaviC/Quantum-Evolution-with-Measurement-and-Reset/blob/main/Section2/Quantum_Evolution_with_Measurement_and_Reset_Multi_Qubit_Method_1_%5BIBM%5D.ipynb)\n"
   ]
  },
  {
   "cell_type": "markdown",
   "metadata": {
    "editable": true,
    "id": "_bPA-Np0YH6Z",
    "slideshow": {
     "slide_type": ""
    },
    "tags": []
   },
   "source": [
    "# Initiation\n",
    "\n",
    "We initiate the environment and load util functions"
   ]
  },
  {
   "cell_type": "code",
   "execution_count": null,
   "metadata": {
    "id": "plWvJSQ22UWX"
   },
   "outputs": [],
   "source": [
    "! pip install pennylane==0.41.1\n",
    "! pip install qiskit==1.2.4 # This also installs qiskit-ibm-runtime\n",
    "! pip install pennylane-qiskit==0.41.0.post0"
   ]
  },
  {
   "cell_type": "code",
   "execution_count": 2,
   "metadata": {
    "id": "1CLSJuEX07HN"
   },
   "outputs": [],
   "source": [
    "from qiskit_ibm_runtime import QiskitRuntimeService, Batch\n",
    "\n",
    "#from google.colab import userdata\n",
    "\n",
    "\n",
    "ibm_token =\n",
    "shots = 1024\n",
    "crn ="
   ]
  },
  {
   "cell_type": "code",
   "execution_count": 2,
   "metadata": {
    "colab": {
     "base_uri": "https://localhost:8080/"
    },
    "id": "tSXrmsdmEw0U",
    "outputId": "810ebfac-39c8-4daa-e1cb-d399fa0b74a4"
   },
   "outputs": [],
   "source": [
    "import datetime\n",
    "import pennylane as qml\n",
    "from pennylane import numpy as np\n",
    "import matplotlib.pyplot as plt\n",
    "\n",
    "from functools import partial\n",
    "\n",
    "n_qubits = 5\n",
    "\n",
    "dev_q = qml.device(\"default.qubit\", wires=n_qubits)"
   ]
  },
  {
   "cell_type": "code",
   "execution_count": 11,
   "metadata": {
    "editable": true,
    "id": "sovbPPBO2ihk",
    "slideshow": {
     "slide_type": ""
    },
    "tags": []
   },
   "outputs": [],
   "source": [
    "\n",
    "@qml.qnode(dev_q)\n",
    "def matrix_eval(u, wires):\n",
    "    u(wires)\n",
    "    return qml.expval(qml.Identity(0))\n",
    "\n",
    "def get_list(target_string):\n",
    "    l = list(target_string)\n",
    "    return [ int(i) for i in l ]\n",
    "\n",
    "def calculate_state(base, start, expected):\n",
    "    \"\"\"\n",
    "    First bit is the one that is used as feedback\n",
    "    \"\"\"\n",
    "    pointer = 2**(n_qubits-1)\n",
    "    if len(expected) == 0:\n",
    "        return start\n",
    "    start = base @ start\n",
    "    if expected[0]:\n",
    "        amp = sum(start[:pointer])\n",
    "        start = np.array(  list(start[pointer:]) + [0]*pointer) / amp\n",
    "    else:\n",
    "        amp = sum(start[pointer:])\n",
    "        start = np.array( list(start[0:pointer]) + [0]*pointer ) / amp\n",
    "    return calculate_state(base, start, expected[1:])\n",
    "\n",
    "def convert_to_bin(val, length=5):\n",
    "    num = bin(val)[2:]\n",
    "    if len(num) <= length:\n",
    "        num = \"0\"*(length-len(num)) + num\n",
    "    else:\n",
    "       num = num[0:length]\n",
    "    return num\n",
    "\n",
    "def get_max_idx(prob):\n",
    "  max_val = 0\n",
    "  max_idx = 0\n",
    "  for idx, prob_q in enumerate(prob):\n",
    "    if abs(prob_q) > max_val:\n",
    "      max_val = abs(prob_q)\n",
    "      max_idx = idx\n",
    "  return max_idx, max_val\n",
    "\n",
    "test_results = []\n",
    "def compare(base, target_string, probabilities) -> bool:\n",
    "        global test_results\n",
    "        len_states = len(base)\n",
    "        print(\"Actual:\", probabilities)\n",
    "        actual_prob = calculate_state(base, np.array([1] + [ 0 ]*( len_states -1 ) ), get_list(target_string))\n",
    "        ## Get the value with max probability\n",
    "        max_qx = 0\n",
    "        max_val = 0\n",
    "        for qc, qq in enumerate(actual_prob):\n",
    "            if qq < 0:\n",
    "                qq = qq * -1\n",
    "            if max_val < qq :\n",
    "                max_val = qq\n",
    "                max_qx = qc\n",
    "        ## Getting q1, q2 related to the state that has max probablity\n",
    "        max_qx = convert_to_bin(max_qx, n_qubits)\n",
    "        calculated_probabilities = []\n",
    "        for qx, prob in enumerate(probabilities):\n",
    "            qp_sum = [0]\n",
    "            idx, val = get_max_idx(prob)\n",
    "            val_q = convert_to_bin(idx, num_qubits)[:n_qubits]\n",
    "            if val_q == max_qx:\n",
    "                calculated_probabilities.append(val > 0.2)  ## Threshold lower for IBM\n",
    "                print(f\"Probability for the expected value: {val}\")\n",
    "        test_results.append((len(target_string), actual_prob, probabilities))\n",
    "        return all(calculated_probabilities) and calculated_probabilities\n",
    "\n",
    "def get_simulated_state_vectors(unitary, target_string):\n",
    "    return [ evolution_measurement_and_reset(unitary, target_string) ]\n",
    "\n",
    "\n",
    "\n",
    "def amplitude_damping_unitary_stinespring(gamma):\n",
    "    U_matrix = np.array([\n",
    "        [1, 0, 0, 0],                            # |00> -> |00>\n",
    "        [0, np.sqrt(1 - gamma), np.sqrt(gamma), 0], # |10> -> sqrt(1-g)|10> + sqrt(g)|01>\n",
    "        [0, -np.sqrt(gamma), np.sqrt(1 - gamma), 0], # |01> -> -sqrt(g)|10> + sqrt(1-g)|01>\n",
    "        [0, 0, 0, 1]                             # |11> -> |11>\n",
    "    ])\n",
    "    return U_matrix\n",
    "\n",
    "def get_probability(target_string):\n",
    "  probability =0\n",
    "  if target_string ==\"1\":\n",
    "    probability =1\n",
    "  return probability"
   ]
  },
  {
   "cell_type": "markdown",
   "metadata": {
    "id": "Ai98rG7FtW41"
   },
   "source": [
    "# Test Script\n",
    "\n",
    "Defined different U operations and use them for testing."
   ]
  },
  {
   "cell_type": "code",
   "execution_count": 5,
   "metadata": {
    "id": "0rE2irqefSWg"
   },
   "outputs": [],
   "source": [
    "\n",
    "\n",
    "def u_1(wires):\n",
    "  qml.H(wires=wires[0])\n",
    "  for i in range(1, n_qubits):\n",
    "    qml.CNOT(wires=[wires[0], wires[i]])\n",
    "\n",
    "def u_8(wires):\n",
    "  qml.H(wires=wires[1])\n",
    "  for i in range(1, n_qubits):\n",
    "    qml.CNOT(wires=[wires[1], wires[2]])\n",
    "\n",
    "def u_2(wires):\n",
    "  qml.Hadamard(wires[0])\n",
    "  qml.H(wires=2)\n",
    "  qml.CNOT(wires=wires[0:2])\n",
    "  qml.X(wires=2)\n",
    "  qml.H(wires=2)\n",
    "  qml.CNOT(wires=[wires[1], wires[2]])\n",
    "  for i in range(3, n_qubits):\n",
    "    qml.CNOT(wires=[wires[1], wires[i]])\n",
    "\n",
    "def u_3(wires):\n",
    "  qml.X(wires=1)\n",
    "  qml.X(wires=0)\n",
    "  qml.Hadamard(wires[0])\n",
    "  qml.CNOT(wires=wires[0:2])\n",
    "  for i in range(1, n_qubits):\n",
    "    qml.CNOT(wires=[wires[0], wires[i]])\n",
    "\n",
    "def u_4(wires):\n",
    "  qml.X(wires=1)\n",
    "  qml.X(wires=0)\n",
    "  qml.CNOT(wires=[wires[1], wires[2]])\n",
    "  qml.Hadamard(wires[0])\n",
    "  for i in range(1, n_qubits):\n",
    "    qml.CNOT(wires=[wires[0], wires[i]])\n",
    "\n",
    "def u_5(wires):\n",
    "  qml.Hadamard(wires[0])\n",
    "  qml.CNOT(wires=wires[0:2])\n",
    "  qml.X(wires=2)\n",
    "  qml.CNOT(wires=[wires[0], wires[2]])\n",
    "  qml.CNOT(wires=[wires[2], wires[1]])\n",
    "  qml.CNOT(wires=[wires[1], wires[0]])\n",
    "  for i in range(3, n_qubits):\n",
    "    qml.CNOT(wires=[wires[0], wires[i]])\n",
    "\n",
    "def u_6(wires):\n",
    "  qml.X(wires=wires[1])\n",
    "  qml.X(wires=wires[0])\n",
    "  qml.H(wires=wires[0])\n",
    "  qml.CZ(wires=[wires[0], wires[1]])\n",
    "  qml.CNOT(wires=[wires[0], wires[2]])\n",
    "  qml.CNOT(wires=[wires[2], wires[1]])\n",
    "\n",
    "\n",
    "def u_7(wires):\n",
    "  qml.H(wires=wires[1])\n",
    "  qml.CZ(wires=[wires[1], wires[2]])\n",
    "  qml.H(wires=wires[0])\n",
    "  qml.H(wires=wires[1])\n",
    "  qml.CZ(wires=[wires[0], wires[1]])\n",
    "  qml.CNOT(wires=[wires[0], wires[2]])\n",
    "  qml.CNOT(wires=[wires[2], wires[1]])\n",
    "\n",
    "registered_tests =  [ u_1 , u_2, u_3, u_4, u_5, u_6, u_7 ]\n",
    "\n",
    "\n",
    "def test(unitary, target_string, debug=0, offset=0, iterate=1):\n",
    "  state_vector = qml.matrix(matrix_eval)(unitary, range(n_qubits))\n",
    "  for target in range(offset, len(target_string), iterate):\n",
    "      if debug: print(f\"Running tests for n = {target}\")\n",
    "      t1 = datetime.datetime.now()\n",
    "      assert compare(state_vector, target_string[:target+1], get_simulated_state_vectors(unitary, target_string[:target+1])),\\\n",
    "        f\"Error with execution of target string {target_string[:target+1]}\"\n",
    "      if debug: print(f\"Took { datetime.datetime.now() - t1 } time to execute for {target_string[:target+1]}\")\n",
    "  print(\"All test cases passed\")\n",
    "\n",
    "\n",
    "def run_tests(target_string, debug=0, offset=0, iterate=1, num_of_tests=-1):\n",
    "  \"\"\"\n",
    "  args:\n",
    "    - debug: bool: default to 0, set it to 1 to get run details\n",
    "    - offset: int: Set the offset for the target string\n",
    "    - iterate: int: What should be the iterator value, current set to 1\n",
    "    - num_of_tests: int: -1 if we want to run all registered tests\n",
    "  \"\"\"\n",
    "  if num_of_tests == -1:\n",
    "    num_of_tests = len(registered_tests)\n",
    "  for func in registered_tests[:num_of_tests]:\n",
    "    print(f\"Running test for {func.__name__}\")\n",
    "    test(func, target_string, debug=debug, offset=offset, iterate=iterate)\n"
   ]
  },
  {
   "cell_type": "code",
   "execution_count": 7,
   "metadata": {
    "id": "lOQsVeoIaxnE"
   },
   "outputs": [],
   "source": [
    "num_wires = n_qubits + 1\n",
    "num_qubits = n_qubits + 1\n",
    "aux = n_qubits\n",
    "\n",
    "simulator_type = \"default.mixed\"\n",
    "dev = qml.device(simulator_type, wires=num_wires, shots=1024)"
   ]
  },
  {
   "cell_type": "markdown",
   "metadata": {
    "id": "KgaHIJxia2Fm"
   },
   "source": [
    "# IBM Execution"
   ]
  },
  {
   "cell_type": "code",
   "execution_count": 7,
   "metadata": {
    "colab": {
     "base_uri": "https://localhost:8080/"
    },
    "id": "ndAOaZvBa0aX",
    "outputId": "ca41b7ee-9e97-4abb-ef63-e834f92dacf9"
   },
   "outputs": [
    {
     "name": "stdout",
     "output_type": "stream",
     "text": [
      "Using least busy real backend: ibm_torino\n"
     ]
    }
   ],
   "source": [
    "\n",
    "# Replace \"YOUR_IBMQ_TOKEN\" with your actual token\n",
    "QiskitRuntimeService.save_account(channel=\"ibm_cloud\", token=ibm_token, overwrite=True, instance=crn)\n",
    "\n",
    "\n",
    "# 1. Access your saved IBM Quantum account\n",
    "# If you saved your account using QiskitRuntimeService.save_account() previously,\n",
    "# you can just do:\n",
    "service = QiskitRuntimeService()\n",
    "try:\n",
    "    backend = service.least_busy(operational=True, simulator=False, min_num_qubits=2)\n",
    "    print(f\"Using least busy real backend: {backend.name}\")\n",
    "except:\n",
    "    # Fallback to a simulator if no real hardware is available or if you prefer a cloud sim\n",
    "    backend = service.get_backend(\"ibmq_qasm_simulator\") # A powerful cloud simulator\n",
    "    print(f\"Using IBM cloud simulator backend: {backend.name}\")\n",
    "\n",
    "# 3. Initialize the PennyLane device with the chosen Qiskit backend\n",
    "# 'qiskit.remote' is the recommended device for Qiskit Runtime"
   ]
  },
  {
   "cell_type": "code",
   "execution_count": 8,
   "metadata": {
    "id": "s1njK8qikZ1c"
   },
   "outputs": [],
   "source": [
    "dev = qml.device(\"qiskit.remote\", wires=backend.num_qubits, backend=backend, shots=shots)"
   ]
  },
  {
   "cell_type": "markdown",
   "metadata": {
    "id": "L-nI90k0ttqQ"
   },
   "source": [
    "# Logic\n",
    "\n",
    "We apply U followed by amplify and reset block (ARB). Main function is generalized_amplitude_amplification_circuit which call in the U and ARB block. We pass in the U operator and the target string which we need to simulate without measurement."
   ]
  },
  {
   "cell_type": "code",
   "execution_count": 8,
   "metadata": {
    "id": "4ZMJGUUVF9XC"
   },
   "outputs": [],
   "source": [
    "\n",
    "\n",
    "# --- 2. Oracle (U_omega = S_f) ---\n",
    "def phase_oracle(wires, target_string):\n",
    "    \"\"\"\n",
    "    Oracle to mark the target_string with a phase flip for 1 qubit.\n",
    "    This is S_f = I - 2|target><target|.\n",
    "    \"\"\"\n",
    "    if target_string == '0':\n",
    "        qml.PauliX(wires=wires[0])\n",
    "    qml.PauliZ(wires=wires[0])\n",
    "    if target_string == '0':\n",
    "        qml.PauliX(wires=wires[0])\n",
    "\n",
    "# --- 3. Reflection about the Initial State (S_A = A S_0 A_dagger) Diffusion---\n",
    "def reflect_about_initial_state(wires, unitary, diffusion_wires):\n",
    "    \"\"\"\n",
    "    Implements the reflection S_A = I - 2|A><A| = A (I - 2|0...0><0...0|) A_dagger.\n",
    "    This is A @ S_0 @ A_dagger.\n",
    "    \"\"\"\n",
    "    # Apply A_dagger (inverse of initial_state_preparation)\n",
    "\n",
    "    qml.adjoint(unitary)(wires)\n",
    "    n_qubits = len(diffusion_wires)\n",
    "    for wire in diffusion_wires:\n",
    "        qml.PauliX(wires=wire)\n",
    "    if n_qubits == 1:\n",
    "        qml.PauliZ(wires=diffusion_wires[0])\n",
    "    elif n_qubits == 2:\n",
    "        qml.CZ(wires=[diffusion_wires[0], diffusion_wires[-1]])\n",
    "    else:\n",
    "        qml.H(wires=diffusion_wires[-1])\n",
    "        qml.MultiControlledX(diffusion_wires=[0,3])\n",
    "        qml.H(wires=diffusion_wires[-1])\n",
    "    for wire in diffusion_wires:\n",
    "        qml.PauliX(wires=wire)\n",
    "    unitary(wires)\n",
    "\n",
    "\n",
    "def set_auxilary(target_string, damp_wires):\n",
    "    if target_string == \"0\":\n",
    "        qml.X(wires=aux)\n",
    "    qml.CNOT(wires=damp_wires)\n",
    "\n",
    "def apply_and_mix_amp(target_string, unitary, damp_wires):\n",
    "    unitary(range(num_qubits))\n",
    "    set_auxilary(target_string, damp_wires)\n",
    "    #U_stinespring = amplitude_damping_unitary_stinespring(get_probability(target_string))\n",
    "    #qml.QubitUnitary(U_stinespring, wires=damp_wires)\n",
    "\n",
    "# --- Generalized Amplitude Amplification Circuit (Q = S_A S_f) ---\n",
    "@qml.qnode(dev)\n",
    "def evolution_measurement_and_reset(unitary, target_string):\n",
    "    n_qubits = num_qubits\n",
    "    aux = num_qubits - 1\n",
    "    target_wires = [0, aux]\n",
    "    for i in target_string:\n",
    "        apply_and_mix_amp(i, unitary, target_wires)\n",
    "        phase_oracle(range(0,num_qubits), i)\n",
    "        reflect_about_initial_state(range(n_qubits), unitary, target_wires)\n",
    "        qml.H(wires=[aux])\n",
    "        if i == \"0\":\n",
    "          qml.X(wires=[0])\n",
    "        qml.Z(wires=[0])\n",
    "        if i == \"0\":\n",
    "          qml.X(wires=[0])\n",
    "        if i == \"1\":\n",
    "          qml.X(wires=[0]) ## Reset to 0\n",
    "    return qml.probs(wires=range(n_qubits)) # Return probabilities\n"
   ]
  },
  {
   "cell_type": "markdown",
   "metadata": {
    "id": "gsLgD64futOc"
   },
   "source": [
    "# Run Test"
   ]
  },
  {
   "cell_type": "code",
   "execution_count": 9,
   "metadata": {
    "colab": {
     "base_uri": "https://localhost:8080/"
    },
    "id": "6tqwL1nXbgCg",
    "outputId": "732aaff9-c679-41f4-fdf7-c69343a1d31f"
   },
   "outputs": [
    {
     "name": "stdout",
     "output_type": "stream",
     "text": [
      "Len of the target string is 2001\n"
     ]
    }
   ],
   "source": [
    "target_string = \"000110010101111001001011011000000100010011010111101100001111101011010001111000100011111010100010100000011011111111101000111010011111101000011010111010010110111100111110000000000001001000111011110001110000100110011001010101001101110111100100011101111111110111110010010000101101011100111111010101110000001111110010110011111100100000110011111100001100010100000001101011111000101100100110110011100001101111011110011011100000111000000000100110010011011010000000010001110100011111110010101000110100110110100000010001101111011010001101010111100110011011110001001000101111010011010100111111101100110111110001111101001100110000111010001111100011010001000000101010010110011010101000000101000100010011101000100001100011001011011001011010111001011100001111000000010100011101011010101000110011111011110011111001010010110001011010001011010000101101110001110101100111000000100000001001011100111001011110001110110011110101110010110010001110100111100001011101101000110110111101011010101010000000101010111110110001000011101010110001011011001110001000001101111011011101011010001110001110011110011010111101011001011100010100001111010010101101101010000000101000000000110101100110111110000010100010011110111101011111100011111001101001000100110001001011001000010001000011110111011100000011110010111100000010101100000001001011000010001100000101010001010101011010110000011001000011101001111011001110100011001101100101111100100110010100101101101000010111101111111001100100010011110111001110100000001001011011111111011110100111010011011001110001001100100000101110100000110010101100111101001001000111111111011101010001110010101011001001001000000110000100110010100000101011111101010100111111110001011011000101010101111100100111001001001010011111010000011110010100110111110111001100111110100010011001111000001001110001010100000001010111101100110110001011001110001010100010100011100100101011110011001111110011101001100101011010011100011101100111100111111110001000100001100101111101111011011010101011111111011010000011010101000010110\"\n",
    "## Length of the string is 2001\n",
    "\n",
    "print(f\"Len of the target string is {len(target_string)}\")"
   ]
  },
  {
   "cell_type": "markdown",
   "metadata": {
    "id": "aAzEV1kwbkl1"
   },
   "source": [
    "## Create Random Traget String [Optional]"
   ]
  },
  {
   "cell_type": "code",
   "execution_count": null,
   "metadata": {
    "colab": {
     "base_uri": "https://localhost:8080/"
    },
    "id": "sAxyZT7su2Fc",
    "outputId": "fa3773f6-69a4-4f97-c583-cf3a8f41350a"
   },
   "outputs": [],
   "source": [
    "import random\n",
    "\n",
    "\n",
    "def create_target_string(size, seed=None) -> str:\n",
    "  target_string = \"\"\n",
    "  if seed:\n",
    "    random.seed(seed)\n",
    "  for i in range(size):\n",
    "    target_string = target_string + random.choice([\"1\", \"0\"])\n",
    "  return target_string\n",
    "\n",
    "\n",
    "target_string = create_target_string(10)"
   ]
  },
  {
   "cell_type": "markdown",
   "metadata": {
    "id": "ulUKCOfubuyo"
   },
   "source": [
    "## Execute"
   ]
  },
  {
   "cell_type": "code",
   "execution_count": null,
   "metadata": {
    "editable": true,
    "id": "zg1e9ojKbtlI",
    "slideshow": {
     "slide_type": ""
    },
    "tags": []
   },
   "outputs": [],
   "source": [
    "#run_tests(target_string[:60], debug=True, offset=10, iterate=10, num_of_tests=1)\n",
    "\n",
    "## While execution we perform tests with the expected and if error we display the same.\n",
    "## Results are also stored in test_results variable\n",
    "\n",
    "run_tests(target_string[:10], debug=True, offset=0, iterate=5, num_of_tests=1)"
   ]
  },
  {
   "cell_type": "markdown",
   "metadata": {
    "id": "6uaB1p3R8sP9"
   },
   "source": [
    "# Visulaization [Optional]"
   ]
  },
  {
   "cell_type": "code",
   "execution_count": null,
   "metadata": {
    "id": "B4jE7EFs6euL"
   },
   "outputs": [],
   "source": [
    "! pip install scipy"
   ]
  },
  {
   "cell_type": "code",
   "execution_count": 32,
   "metadata": {
    "id": "8VQ_Pzg652DK"
   },
   "outputs": [],
   "source": [
    "from scipy.stats import wasserstein_distance # For Earth Mover's Distance\n",
    "from scipy.special import rel_entr # For KL Divergence (relative entropy)\n",
    "import matplotlib.pyplot as plt\n",
    "import numpy as np\n",
    "\n",
    "\n",
    "def format_prob(prob_dist2_ori):\n",
    "  prob_dist2 = []\n",
    "  for i, val in enumerate(prob_dist2_ori):\n",
    "    if (i + 1) % 2 != 0:\n",
    "      prob_dist2.append(val)\n",
    "    else:\n",
    "      prob_dist2[-1] = prob_dist2[-1] + val\n",
    "  return prob_dist2\n",
    "\n",
    "def normalize_array(ar):\n",
    "  for i in range(len(ar)):\n",
    "    ar[i] = abs(ar[i])\n",
    "\n",
    "def calculate_probabilistic_fidelity(prob_dist1, prob_dist2):\n",
    "    \"\"\"Calculates fidelity between two probability distributions.\"\"\"\n",
    "    # Ensure non-negative and normalized\n",
    "    prob_dist1 = prob_dist1 / np.sum(prob_dist1)\n",
    "    prob_dist2 = prob_dist2 / np.sum(prob_dist2)\n",
    "\n",
    "    fidelity = np.sum(np.sqrt(prob_dist1 * prob_dist2))**2\n",
    "    return fidelity\n",
    "\n",
    "def calculate_kl_divergence(p_dist, q_dist, epsilon=1e-10):\n",
    "    \"\"\"Calculates KL Divergence D_KL(P || Q), adding epsilon to avoid log(0).\"\"\"\n",
    "    p_dist = np.array(p_dist) + epsilon\n",
    "    q_dist = np.array(q_dist) + epsilon\n",
    "    # Normalize after adding epsilon just to be safe\n",
    "    p_dist = p_dist / np.sum(p_dist)\n",
    "    q_dist = q_dist / np.sum(q_dist)\n",
    "\n",
    "    kl_div = np.sum(rel_entr(p_dist, q_dist))\n",
    "    return kl_div\n",
    "\n",
    "\n",
    "\n",
    "def plot_multi_series(x_data, series_y_data, series_labels, chart_title,\n",
    "                      x_label='X-Axis Value', y_label='Y-Axis Value',\n",
    "                      line_styles=None, marker_styles=None, colors=None,\n",
    "                      figsize=(10, 6)):\n",
    "    \"\"\"\n",
    "    Creates a 2D graph with multiple data series.\n",
    "\n",
    "    Args:\n",
    "        x_data (array-like): The common x-axis data for all series.\n",
    "        series_y_data (list of array-like): A list where each element is the\n",
    "                                            y-data for one series.\n",
    "        series_labels (list of str): A list of labels for each series,\n",
    "                                     used in the legend.\n",
    "        chart_title (str): The main title for the chart.\n",
    "        x_label (str, optional): Label for the x-axis. Defaults to 'X-Axis Value'.\n",
    "        y_label (str, optional): Label for the y-axis. Defaults to 'Y-Axis Value'.\n",
    "        line_styles (list of str, optional): List of matplotlib line styles (e.g., '-', '--', ':').\n",
    "                                            If not provided, default styles will cycle.\n",
    "        marker_styles (list of str, optional): List of matplotlib marker styles (e.g., 'o', 'x', '^').\n",
    "                                              If not provided, no markers are used by default.\n",
    "        colors (list of str, optional): List of matplotlib color names or hex codes.\n",
    "                                        If not provided, default colors will cycle.\n",
    "        figsize (tuple, optional): A tuple (width, height) in inches for the figure size.\n",
    "                                   Defaults to (10, 6).\n",
    "\n",
    "    Raises:\n",
    "        ValueError: If the number of y-data series doesn't match the number of labels.\n",
    "    \"\"\"\n",
    "\n",
    "    if len(series_y_data) != len(series_labels):\n",
    "        raise ValueError(\"Oops! The number of data series doesn't match the number of labels. \"\n",
    "                         \"Every series needs a name, just like every pet needs a good cuddle!\")\n",
    "\n",
    "    plt.figure(figsize=figsize)\n",
    "\n",
    "    # Define some default styles if not provided, to keep things looking good\n",
    "    default_colors = ['blue', 'red', 'green', 'purple', 'orange', 'brown', 'pink', 'gray', 'cyan']\n",
    "    default_line_styles = ['-', '--', ':', '-.']\n",
    "    default_marker_styles = ['o', 'x', '^', 's', 'D', 'p', '*'] # Circle, x, triangle up, square, diamond, pentagon, star\n",
    "\n",
    "    for i, y_data in enumerate(series_y_data):\n",
    "        label = series_labels[i]\n",
    "\n",
    "        # Cycle through provided or default styles\n",
    "        color = colors[i % len(colors)] if colors else default_colors[i % len(default_colors)]\n",
    "        line_style = line_styles[i % len(line_styles)] if line_styles else default_line_styles[i % len(default_line_styles)]\n",
    "        marker_style = marker_styles[i % len(marker_styles)] if marker_styles else None # Default to no marker\n",
    "\n",
    "        plt.plot(x_data, y_data, label=label, color=color,\n",
    "                 linestyle=line_style, marker=marker_style, markersize=5 if marker_style else 0)\n",
    "\n",
    "    # Set the titles, labels, and legend\n",
    "    plt.title(chart_title)\n",
    "    plt.xlabel(x_label)\n",
    "    plt.ylabel(y_label)\n",
    "    plt.legend()\n",
    "    plt.grid(True, linestyle=':', alpha=0.7) # A nice grid makes everything clearer!\n",
    "\n",
    "    plt.show()\n",
    "\n",
    "\n",
    "\n",
    "def display_results(results):\n",
    "  fidelity = []\n",
    "  kl = []\n",
    "  x = []\n",
    "\n",
    "  for result in results:\n",
    "    data = [result[0], result[1].tolist(), format_prob(result[2][0].tolist())]\n",
    "    normalize_array(data[1])\n",
    "    fidelity.append(calculate_probabilistic_fidelity(data[1], data[2]))\n",
    "    kl.append(calculate_kl_divergence(data[1], data[2]))\n",
    "    x.append(result[0])\n",
    "  plot_multi_series(x, [fidelity], [\"1024 shots\"], \"Fidelity for run on IBM Torinto\", x_label=\"Number of U\", y_label=\"Fidelity\")\n",
    "  plot_multi_series(x, [kl], [\"1024 shots\"], \"KL for run on IBM Torinto\", x_label=\"Number of U\", y_label=\"KL\")"
   ]
  },
  {
   "cell_type": "code",
   "execution_count": 33,
   "metadata": {
    "colab": {
     "base_uri": "https://localhost:8080/",
     "height": 1000
    },
    "id": "3WTVIFDR54PF",
    "outputId": "55caeacb-5886-4617-a3c9-712851a22ba7"
   },
   "outputs": [
    {
     "data": {
      "image/png": "[encoded data removed]",
      "text/plain": [
       "<Figure size 1000x600 with 1 Axes>"
      ]
     },
     "metadata": {},
     "output_type": "display_data"
    },
    {
     "data": {
      "image/png": "[encoded data removed]",
      "text/plain": [
       "<Figure size 1000x600 with 1 Axes>"
      ]
     },
     "metadata": {},
     "output_type": "display_data"
    }
   ],
   "source": [
    "display_results(test_results)"
   ]
  },
  {
   "cell_type": "code",
   "execution_count": null,
   "metadata": {
    "id": "sqA4y-kZ_HrT"
   },
   "outputs": [],
   "source": []
  }
 ],
 "metadata": {
  "colab": {
   "provenance": []
  },
  "kernelspec": {
   "display_name": "Python 3 [Default]",
   "language": "python",
   "name": "python3"
  },
  "language_info": {
   "codemirror_mode": {
    "name": "ipython",
    "version": 3
   },
   "file_extension": ".py",
   "mimetype": "text/x-python",
   "name": "python",
   "nbconvert_exporter": "python",
   "pygments_lexer": "ipython3",
   "version": "3.11.9"
  }
 },
 "nbformat": 4,
 "nbformat_minor": 4
}
