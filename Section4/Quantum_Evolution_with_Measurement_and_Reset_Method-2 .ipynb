{
  "nbformat": 4,
  "nbformat_minor": 0,
  "metadata": {
    "colab": {
      "provenance": []
    },
    "kernelspec": {
      "name": "python3",
      "display_name": "Python 3"
    },
    "language_info": {
      "name": "python"
    }
  },
  "cells": [
    {
      "cell_type": "markdown",
      "source": [
        "# Quantum Evolution with Measurement and  Reset : Method 2\n",
        "\n",
        "This method has O(n) qubit complexity making it expensive.\n",
        "\n",
        "NOTE: Here we have considered wire 0 as signal or feedback qubit, over which we get yi value."
      ],
      "metadata": {
        "id": "MVJIynnEZUJ7"
      }
    },
    {
      "cell_type": "markdown",
      "source": [
        "# Initiation\n",
        "\n",
        "We initiate the environment and load util functions"
      ],
      "metadata": {
        "id": "_bPA-Np0YH6Z"
      }
    },
    {
      "cell_type": "code",
      "execution_count": null,
      "metadata": {
        "id": "plWvJSQ22UWX"
      },
      "outputs": [],
      "source": [
        "! pip install pennylane\n",
        "! pip install qiskit # This also installs qiskit-ibm-runtime\n",
        "! pip install pennylane-qiskit"
      ]
    },
    {
      "cell_type": "code",
      "source": [
        "\n",
        "import datetime\n",
        "import pennylane as qml\n",
        "from pennylane import numpy as np\n",
        "import matplotlib.pyplot as plt\n",
        "\n",
        "from functools import partial\n",
        "\n",
        "dev_q = qml.device(\"default.qubit\", wires=3)\n",
        "dev = qml.device(\"default.qubit\", wires=3, shots=1024)\n",
        "IBM=False\n",
        "\n",
        "\n",
        "\n",
        "\n",
        "@qml.qnode(dev_q)\n",
        "def matrix_eval(u, wires):\n",
        "    u(wires)\n",
        "    return qml.expval(qml.Identity(0))\n",
        "\n",
        "def get_list(target_string):\n",
        "    l = list(target_string)\n",
        "    return [ int(i) for i in l ]\n",
        "\n",
        "def calculate_state(base, start, expected):\n",
        "    if len(expected) == 0:\n",
        "        return start\n",
        "    start = base @ start\n",
        "    if expected[0]:\n",
        "        amp = sum(start[:4])\n",
        "        start = np.array(  list(start[4:]) + [0]*4) / amp\n",
        "    else:\n",
        "        amp = sum(start[4:])\n",
        "        start = np.array( list(start[0:4]) + [0]*4 ) / amp\n",
        "    return calculate_state(base, start, expected[1:])\n",
        "\n",
        "def convert_to_bin(val, length=5):\n",
        "    num = bin(val)[2:]\n",
        "    if len(num) <= length:\n",
        "        num = \"0\"*(length-len(num)) + num\n",
        "    else:\n",
        "       num = num[0:length]\n",
        "    return num\n",
        "\n",
        "results = []\n",
        "def compare(base, target_string, probabilities) -> bool:\n",
        "        global results\n",
        "        len_states = len(base)\n",
        "        actual_prob = calculate_state(base, np.array([1] + [ 0 ]*( len_states -1 ) ), get_list(target_string))\n",
        "\n",
        "        max_qx = 0\n",
        "        max_val = 0\n",
        "        for qc, qq in enumerate(actual_prob):\n",
        "            if qq < 0:\n",
        "                qq = qq * -1\n",
        "            if max_val < qq :\n",
        "                max_val = qq\n",
        "                max_qx = qc\n",
        "        max_qx = convert_to_bin(max_qx, 3)[1:]\n",
        "        calculated_probabilities = []\n",
        "        for qx, prob in enumerate(probabilities):\n",
        "            qp_sum = [0]\n",
        "            for prob_q in range(len(prob)):\n",
        "                val_q = convert_to_bin(prob_q, 3 + len(target_string))[1:3]\n",
        "                if val_q == max_qx:\n",
        "                    qp_sum.append(prob[prob_q])\n",
        "            if qp_sum:\n",
        "              calculated_probabilities.append(sum(qp_sum))\n",
        "        results.append((len(target_string), actual_prob, probabilities))\n",
        "        return all(calculated_probabilities)\n",
        "\n",
        "def get_simulated_state_vectors(unitary, target_string):\n",
        "    return [ create_circuit(unitary, target_string) ]\n",
        "\n",
        "\n",
        "\n",
        "def amplitude_damping_unitary_stinespring(gamma):\n",
        "    U_matrix = np.array([\n",
        "        [1, 0, 0, 0],                            # |00> -> |00>\n",
        "        [0, np.sqrt(1 - gamma), np.sqrt(gamma), 0], # |10> -> sqrt(1-g)|10> + sqrt(g)|01>\n",
        "        [0, -np.sqrt(gamma), np.sqrt(1 - gamma), 0], # |01> -> -sqrt(g)|10> + sqrt(1-g)|01>\n",
        "        [0, 0, 0, 1]                             # |11> -> |11>\n",
        "    ])\n",
        "    return U_matrix\n",
        "\n",
        "def get_probability(target_string):\n",
        "  probability =0\n",
        "  if target_string ==\"1\":\n",
        "    probability =1\n",
        "  return probability"
      ],
      "metadata": {
        "id": "sovbPPBO2ihk",
        "colab": {
          "base_uri": "https://localhost:8080/"
        },
        "outputId": "d1c04976-2cfc-46f0-b1bb-71e4a7977a85"
      },
      "execution_count": 2,
      "outputs": [
        {
          "output_type": "stream",
          "name": "stderr",
          "text": [
            "/usr/local/lib/python3.11/dist-packages/pennylane/capture/capture_operators.py:33: RuntimeWarning: PennyLane is not yet compatible with JAX versions > 0.4.28. You have version 0.5.2 installed. Please downgrade JAX to <=0.4.28 to avoid runtime errors.\n",
            "  warnings.warn(\n"
          ]
        }
      ]
    },
    {
      "cell_type": "markdown",
      "source": [
        "# Execute this section if you want to run this on IBM"
      ],
      "metadata": {
        "id": "8FvHBVyQNKd3"
      }
    },
    {
      "cell_type": "code",
      "source": [
        "from qiskit_ibm_runtime import QiskitRuntimeService, Batch\n",
        "\n",
        "\n",
        "\n",
        "## Please add token\n",
        "ibm_token =\n",
        "crn =\n",
        "\n",
        "QiskitRuntimeService.save_account(channel=\"ibm_cloud\", token=ibm_token, overwrite=True, instance=crn)\n",
        "\n",
        "\n",
        "# 1. Access your saved IBM Quantum account\n",
        "# If you saved your account using QiskitRuntimeService.save_account() previously,\n",
        "# you can just do:\n",
        "service = QiskitRuntimeService()\n",
        "try:\n",
        "    backend = service.least_busy(operational=True, simulator=False, min_num_qubits=2)\n",
        "    print(f\"Using least busy real backend: {backend.name}\")\n",
        "except:\n",
        "    # Fallback to a simulator if no real hardware is available or if you prefer a cloud sim\n",
        "    backend = service.get_backend(\"ibmq_qasm_simulator\") # A powerful cloud simulator\n",
        "    print(f\"Using IBM cloud simulator backend: {backend.name}\")\n",
        "\n",
        "# 3. Initialize the PennyLane device with the chosen Qiskit backend\n",
        "# 'qiskit.remote' is the recommended device for Qiskit Runtime\n",
        "\n",
        "IBM=True\n"
      ],
      "metadata": {
        "id": "eXSlXh_yX0kG",
        "colab": {
          "base_uri": "https://localhost:8080/"
        },
        "outputId": "3bb18e0d-d905-49ea-81a2-465c0db0e4f9"
      },
      "execution_count": null,
      "outputs": [
        {
          "output_type": "stream",
          "name": "stdout",
          "text": [
            "Using least busy real backend: ibm_torino\n"
          ]
        }
      ]
    },
    {
      "cell_type": "code",
      "source": [
        "dev = qml.device(\"qiskit.remote\", wires=backend.num_qubits, backend=backend, shots=1024)"
      ],
      "metadata": {
        "id": "d27BDvHJZIQE"
      },
      "execution_count": null,
      "outputs": []
    },
    {
      "cell_type": "markdown",
      "source": [
        "# Test Script\n",
        "\n",
        "Defined different U operations and use them for testing."
      ],
      "metadata": {
        "id": "Ai98rG7FtW41"
      }
    },
    {
      "cell_type": "code",
      "source": [
        "def u_1(wires):\n",
        "  qml.X(wires=wires[1])\n",
        "  qml.X(wires=wires[0])\n",
        "  qml.H(wires=wires[0])\n",
        "  qml.CNOT(wires=[wires[0], wires[2]])\n",
        "  qml.CNOT(wires=[wires[2], wires[1]])\n",
        "\n",
        "def u_2(wires):\n",
        "  qml.Hadamard(wires[0])\n",
        "  qml.H(wires=2)\n",
        "  qml.CNOT(wires=wires[0:2])\n",
        "  qml.X(wires=2)\n",
        "  qml.H(wires=2)\n",
        "  qml.CNOT(wires=[wires[1], wires[2]])\n",
        "\n",
        "def u_3(wires):\n",
        "  qml.X(wires=1)\n",
        "  qml.X(wires=0)\n",
        "  qml.Hadamard(wires[0])\n",
        "  qml.CNOT(wires=wires[0:2])\n",
        "  qml.CNOT(wires=[wires[0], wires[2]])\n",
        "\n",
        "def u_4(wires):\n",
        "  qml.X(wires=1)\n",
        "  qml.X(wires=0)\n",
        "  qml.CNOT(wires=[wires[1], wires[2]])\n",
        "  qml.Hadamard(wires[0])\n",
        "  qml.CNOT(wires=wires[0:2])\n",
        "  qml.CNOT(wires=[wires[0], wires[2]])\n",
        "\n",
        "def u_5(wires):\n",
        "  qml.Hadamard(wires[0])\n",
        "  qml.CNOT(wires=wires[0:2])\n",
        "  qml.X(wires=2)\n",
        "  qml.CNOT(wires=[wires[0], wires[2]])\n",
        "  qml.CNOT(wires=[wires[2], wires[1]])\n",
        "  qml.CNOT(wires=[wires[1], wires[0]])\n",
        "\n",
        "def u_6(wires):\n",
        "  qml.X(wires=wires[1])\n",
        "  qml.X(wires=wires[0])\n",
        "  qml.H(wires=wires[0])\n",
        "  qml.CZ(wires=[wires[0], wires[1]])\n",
        "  qml.CNOT(wires=[wires[0], wires[2]])\n",
        "  qml.CNOT(wires=[wires[2], wires[1]])\n",
        "\n",
        "\n",
        "def u_7(wires):\n",
        "  qml.H(wires=wires[1])\n",
        "  qml.CZ(wires=[wires[1], wires[2]])\n",
        "  qml.H(wires=wires[0])\n",
        "  qml.H(wires=wires[1])\n",
        "  qml.CZ(wires=[wires[0], wires[1]])\n",
        "  qml.CNOT(wires=[wires[0], wires[2]])\n",
        "  qml.CNOT(wires=[wires[2], wires[1]])\n",
        "\n",
        "registered_tests = [ u_7 ]\n",
        "\n",
        "\n",
        "def test(unitary, target_string, debug=0):\n",
        "  state_vector = qml.matrix(matrix_eval)(unitary, range(3))\n",
        "  for target in range(len(target_string)):\n",
        "      if target < len(target_string) - 1: continue\n",
        "      if debug: print(f\"Running tests for n = {target}\")\n",
        "      t1 = datetime.datetime.now()\n",
        "      assert compare(state_vector, target_string[:target+1], get_simulated_state_vectors(unitary, target_string[:target+1])),\\\n",
        "        f\"Error with execution of target string {target_string[:target+1]}\"\n",
        "      if debug: print(f\"Took { datetime.datetime.now() - t1 } time to execute for {target_string[:target+1]}\")\n",
        "  print(\"All test cases passed\")\n",
        "\n",
        "\n",
        "def run_tests(target_string, debug=0):\n",
        "  for func in registered_tests:\n",
        "    print(f\"Running test for {func.__name__}\")\n",
        "    test(func, target_string, debug=debug)\n"
      ],
      "metadata": {
        "id": "0rE2irqefSWg"
      },
      "execution_count": 3,
      "outputs": []
    },
    {
      "cell_type": "markdown",
      "source": [
        "# Logic\n",
        "\n",
        "We apply U followed by amplify and reset block (ARB). Main function is create_circuir which calls evolution_measurement_and_reset and executes the U and grover block. We pass in the U operator and target string which we need to simulate without measurement."
      ],
      "metadata": {
        "id": "L-nI90k0ttqQ"
      }
    },
    {
      "cell_type": "code",
      "source": [
        "\n",
        "\n",
        "\n",
        "num_wires = 3\n",
        "num_qubits = 3\n",
        "\n",
        "#simulator_type = \"qiskit.remote\" #\"default.mixed\"\n",
        "\n",
        "\n",
        "def initial_state_preparation(unitary, wires):\n",
        "    for i in range(3, len(wires)):\n",
        "        unitary(wires)\n",
        "        qml.CNOT(wires=[0,i])\n",
        "\n",
        "def get_num_of_iteration(target_string):\n",
        "  return int((len(target_string)**(1/2)* np.pi / 4))\n",
        "\n",
        "def grover_oracle(wires, target_string):\n",
        "  \"\"\"\n",
        "  Oracle to mark the target_string with a phase flip.\n",
        "  Assumes target_string is a binary string, e.g., \"01\".\n",
        "  \"\"\"\n",
        "  n_qubits = len(wires)\n",
        "  if len(target_string) != n_qubits:\n",
        "      raise ValueError(\"Target string length must match number of wires.\")\n",
        "\n",
        "  # Apply X gates to map target_string to |11...1>\n",
        "  for i, bit in enumerate(target_string):\n",
        "      if bit == '0':\n",
        "          qml.PauliX(wires=wires[i])\n",
        "\n",
        "  # Apply Z gate if there's only one qubit\n",
        "  if n_qubits == 1:\n",
        "      qml.PauliZ(wires=wires[0])\n",
        "  # Apply controlled-Z for 2 qubits\n",
        "  elif n_qubits == 2:\n",
        "      qml.CZ(wires=[wires[0], wires[1]])\n",
        "  else:\n",
        "      qml.H(wires=wires[-1])\n",
        "      qml.MultiControlledX(wires=wires) # Acts on all wires, last is target\n",
        "      qml.H(wires=wires[-1])\n",
        "\n",
        "  for i, bit in enumerate(target_string):\n",
        "      if bit == '0':\n",
        "          qml.PauliX(wires=wires[i])\n",
        "\n",
        "# --- 3. Reflection about the |0...0> state (S_0) ---\n",
        "def reflect_about_zero_state(wires):\n",
        "    \"\"\"\n",
        "    Implements 2|0...0><0...0| - I using Pauli-X and multi-controlled Z.\n",
        "    \"\"\"\n",
        "    n_qubits = len(wires)\n",
        "\n",
        "    for wire in wires:\n",
        "        qml.PauliX(wires=wire)\n",
        "\n",
        "    if n_qubits == 1:\n",
        "        qml.PauliZ(wires=wires[0])\n",
        "    elif n_qubits == 2:\n",
        "        qml.CZ(wires=[wires[0], wires[1]])\n",
        "    else:\n",
        "        # For more than 2 qubits, use MultiControlledX and H to implement MCZ\n",
        "        qml.H(wires=wires[-1])\n",
        "        qml.MultiControlledX(wires=wires) # Acts on all wires, last is target\n",
        "        qml.H(wires=wires[-1])\n",
        "\n",
        "    for wire in wires:\n",
        "        qml.PauliX(wires=wire)\n",
        "\n",
        "def diffusion(func, target_wires):\n",
        "  qml.adjoint(func)()\n",
        "  reflect_about_zero_state(target_wires)\n",
        "  func()\n",
        "\n",
        "\n",
        "def evolution_measurement_and_reset(unitary, target_string):\n",
        "    n_qubits = num_qubits + len(target_string)\n",
        "\n",
        "    num_iterations = get_num_of_iteration(target_string)\n",
        "\n",
        "    # Prepare the initial state |A>\n",
        "    initial_state_preparation(unitary, range(n_qubits))\n",
        "    target_qubit = range(3, n_qubits)\n",
        "\n",
        "    # Apply the Amplitude Amplification Operator Q\n",
        "    for _ in range(num_iterations):\n",
        "        grover_oracle(target_qubit, target_string)\n",
        "        diffusion(partial(initial_state_preparation,unitary, range(n_qubits)), target_qubit)\n",
        "\n",
        "\n",
        "    return qml.probs(wires=range(n_qubits))\n",
        "\n",
        "\n",
        "## Creating circuits based on the target string size\n",
        "def create_circuit(unitary, target_string):\n",
        "  if IBM:\n",
        "    dev = qml.device(\"qiskit.remote\", wires=num_wires + len(target_string), shots=1024, backend=backend)\n",
        "  else:\n",
        "    dev = qml.device(\"default.mixed\", wires=num_wires + len(target_string), shots=1024)\n",
        "  return qml.qnode(dev)(evolution_measurement_and_reset)(unitary, target_string)\n"
      ],
      "metadata": {
        "id": "ruVc3S4f4jxU"
      },
      "execution_count": 4,
      "outputs": []
    },
    {
      "cell_type": "markdown",
      "source": [
        "# Run Test"
      ],
      "metadata": {
        "id": "gsLgD64futOc"
      }
    },
    {
      "cell_type": "code",
      "source": [
        "target_string = \"0111101\"\n",
        "run_tests(target_string, debug=1)\n",
        "# target_string = \"011010\"\n",
        "# run_tests(target_string)"
      ],
      "metadata": {
        "colab": {
          "base_uri": "https://localhost:8080/"
        },
        "id": "sAxyZT7su2Fc",
        "outputId": "27d15ca8-c6f8-47ab-aea6-61d16f90d90a"
      },
      "execution_count": 5,
      "outputs": [
        {
          "output_type": "stream",
          "name": "stdout",
          "text": [
            "Running test for u_7\n",
            "Running tests for n = 6\n",
            "Took 0:00:37.685809 time to execute for 0111101\n",
            "All test cases passed\n"
          ]
        }
      ]
    },
    {
      "cell_type": "code",
      "source": [],
      "metadata": {
        "id": "clUtZJfEPlfg"
      },
      "execution_count": null,
      "outputs": []
    }
  ]
}